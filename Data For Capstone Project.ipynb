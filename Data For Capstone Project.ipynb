{
    "cells": [
        {
            "cell_type": "markdown",
            "metadata": {
                "collapsed": true
            },
            "source": "# Data Used For This Project"
        },
        {
            "cell_type": "markdown",
            "metadata": {},
            "source": "I shall be using two kinds of data for my analysis of this business problem\n\n1. Zameen Property Data.csv\n2. Venues from Foursquare location data \n"
        },
        {
            "cell_type": "markdown",
            "metadata": {},
            "source": "## 1. Zameen Property Data"
        },
        {
            "cell_type": "markdown",
            "metadata": {},
            "source": "Zameen.com is an online property portal in Pakistan. The site lists real estate dealers, developers, agencies, and properties for sale and rent. The company is headquartered in Lahore, Pakistan and has offices in 13 cities across Pakistan, including Karachi, Lahore, Islamabad, Gujranwala, Faisalabad, Peshawar and Multan, and operates all over Pakistan. Zameen.com a property webite of Pakistan pivotal achievement so far has been that they have managed to make real estate data accessible to all.The dataset provides property listing with their prices, area and coordinates for all major cities of Pakistan including Lahore. This publicly available data is available at https://opendata.com.pk/dataset/property-data-for-pakistan/resource/2cb1eeea-8dff-41b4-845f-28b8d75ca23b?inner_span=True\n\nFrom this dataset, I shall filter out the properties in Lahore that are for sale in the popular neighborhoods of Lahore. Each neighborhood will then be clustered to group similarly located neighbors together using KMean Clustering. Then we shall plot all clusters on the map"
        },
        {
            "cell_type": "markdown",
            "metadata": {},
            "source": "## 2. Venues from Foursquare location data "
        },
        {
            "cell_type": "markdown",
            "metadata": {},
            "source": "Foursquare, is a local search-and-discovery mobile app developed by Foursquare Labs Inc. The app provides personalized recommendations of places to go near a user's current location based on users' previous browsing history and check-in history. We shall utilize location data from fr"
        }
    ],
    "metadata": {
        "kernelspec": {
            "display_name": "Python 3.6",
            "language": "python",
            "name": "python3"
        },
        "language_info": {
            "codemirror_mode": {
                "name": "ipython",
                "version": 3
            },
            "file_extension": ".py",
            "mimetype": "text/x-python",
            "name": "python",
            "nbconvert_exporter": "python",
            "pygments_lexer": "ipython3",
            "version": "3.6.9"
        }
    },
    "nbformat": 4,
    "nbformat_minor": 1
}