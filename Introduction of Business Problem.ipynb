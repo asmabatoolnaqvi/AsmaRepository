{
    "cells": [
        {
            "cell_type": "markdown",
            "metadata": {},
            "source": "# About Lahore, Pakistan"
        },
        {
            "cell_type": "markdown",
            "metadata": {
                "collapsed": true
            },
            "source": "Lahore is the capital of the Pakistani province of Punjab, and is the country's 2nd largest city after Karachi, as well as the 18th largest city proper in the world. Lahore is one of Pakistan's wealthiest cities, historic cultural centre of the wider Punjab region and is one of Pakistan's most socially liberal,progressive, and cosmopolitan cities.Lahore exerts a strong cultural influence over Pakistan. Lahore is a major center for Pakistan's publishing industry, and remains the foremost center of Pakistan's literary scene. The city is also a major centre of education in Pakistan,with some of Pakistan's leading universities based in the city.\n\nLahore's origins reach into antiquity. The city has been controlled by numerous empires throughout the course of its history, including the Hindu Shahis, Ghaznavids, Ghurids, and Delhi Sultanate by the medieval era. Lahore reached the height of its splendour under the Mughal Empire between the late 16th and early 18th century. Later it became capital of the Sikh Empire in the early 19th century, and regained some of its lost grandeur. Lahore was then annexed to the British Empire, and made capital of British Punjab. Lahore was central to the independence movements of both India and Pakistan. Following the success of the Pakistan Movement and subsequent independence in 1947, Lahore was declared capital of Pakistan's Punjab province.\n\n"
        },
        {
            "cell_type": "markdown",
            "metadata": {},
            "source": "# Lahore as a Tourist Location"
        },
        {
            "cell_type": "markdown",
            "metadata": {},
            "source": "The city of Lahore hosts much of Pakistan's tourist industry, with major attractions including the Walled City, the famous Badshahi and Wazir Khan mosques and Sikh shrines. Lahore is also home to the Lahore Fort and Shalimar Gardens, both of which are UNESCO World Heritage Sites. For these reasons, Lahore is a popular tourist location both for locals and foreigners equally."
        },
        {
            "cell_type": "markdown",
            "metadata": {},
            "source": "# AirBnB in Lahore,Pakistan"
        },
        {
            "cell_type": "markdown",
            "metadata": {},
            "source": "Airbnb, Inc. is an vacation rental online marketplace company which offers arrangement for lodging, primarily homestays, or tourism experiences. Airbnb provides a platform for hosts to accommodate guests with short-term lodging and tourism-related activities.Guests can search for lodging using filters such as lodging type, dates, location, and price, and can search for specific types of homes, such as bed and breakfasts, unique homes, and vacation homes. \n\nAlthough Airbnb is commonly used in other countries, the idea has arrived with much appreciation in Pakistan.n the past few years, Airbnb has gained popularity in Pakistan. Increasingly number of hosts have set up their homes as potential rentals and many tourists are opting for AirBnb options instead of staying in hotels for their trips. A spokesperson at AirDNA said \u201cTotal Airbnb listings in Pakistan have increased by 227% over the last year, with the ratio of entire homes and private rooms roughly remaining the same.\n\nNonetheless, the emergence of Airbnb in Pakistan is expected to curb the monopoly enjoyed by hotels in the lodging industry because at present, some listings on the applications are half the cost charged by high-end hotels. Airbnb appears set to make an impact on Pakistan\u2019s hospitality industry. Airbnb seems to have a lot of potential in Pakistan and it may prove to be revolutionary for the rental market of the country.\n\n"
        },
        {
            "cell_type": "markdown",
            "metadata": {},
            "source": "\n\n# Business Problem"
        },
        {
            "cell_type": "markdown",
            "metadata": {},
            "source": "The emergence and rising popularity of AirBnb has inititated a  new investment oppurtunity for the Pakistanis. People are keen towards purchasing properties in localilties nearest to popular tourist venues so that they can be made available for rent through AirBnB.So the purchased property yields a higher rental earning from an investor point of view. \n\nMy project is targetted to help such investors. I shall be using my knowledge from the ibm data science professional courses to identify and choose a neighborhood best suited for buying a property in Lahore. My selection will be based on the locality of the neighboehood. The closer a neighborhood is to the popular venues, the higher will be its chances that it will be preferred for renting by tourists."
        }
    ],
    "metadata": {
        "kernelspec": {
            "display_name": "Python 3.6",
            "language": "python",
            "name": "python3"
        },
        "language_info": {
            "codemirror_mode": {
                "name": "ipython",
                "version": 3
            },
            "file_extension": ".py",
            "mimetype": "text/x-python",
            "name": "python",
            "nbconvert_exporter": "python",
            "pygments_lexer": "ipython3",
            "version": "3.6.9"
        }
    },
    "nbformat": 4,
    "nbformat_minor": 1
}