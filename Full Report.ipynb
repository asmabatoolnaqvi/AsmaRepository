{
    "cells": [
        {
            "cell_type": "markdown",
            "metadata": {},
            "source": "# BATTLE OF NEIGHBORHOODS IN LAHORE "
        },
        {
            "cell_type": "markdown",
            "metadata": {},
            "source": "# Prologue"
        },
        {
            "cell_type": "markdown",
            "metadata": {},
            "source": "### About Lahore, Pakistan"
        },
        {
            "cell_type": "markdown",
            "metadata": {
                "collapsed": true
            },
            "source": "Lahore is the capital of the Pakistani province of Punjab, and is the country's 2nd largest city after Karachi, as well as the 18th largest city proper in the world. Lahore is one of Pakistan's wealthiest cities, historic cultural centre of the wider Punjab region and is one of Pakistan's most socially liberal,progressive, and cosmopolitan cities.Lahore exerts a strong cultural influence over Pakistan. Lahore is a major center for Pakistan's publishing industry, and remains the foremost center of Pakistan's literary scene. The city is also a major centre of education in Pakistan,with some of Pakistan's leading universities based in the city.\n\nLahore's origins reach into antiquity. The city has been controlled by numerous empires throughout the course of its history, including the Hindu Shahis, Ghaznavids, Ghurids, and Delhi Sultanate by the medieval era. Lahore reached the height of its splendour under the Mughal Empire between the late 16th and early 18th century. Later it became capital of the Sikh Empire in the early 19th century, and regained some of its lost grandeur. Lahore was then annexed to the British Empire, and made capital of British Punjab. Lahore was central to the independence movements of both India and Pakistan. Following the success of the Pakistan Movement and subsequent independence in 1947, Lahore was declared capital of Pakistan's Punjab province.\n\n"
        },
        {
            "cell_type": "markdown",
            "metadata": {},
            "source": "### Lahore as a Tourist Location"
        },
        {
            "cell_type": "markdown",
            "metadata": {},
            "source": "The city of Lahore hosts much of Pakistan's tourist industry, with major attractions including the Walled City, the famous Badshahi and Wazir Khan mosques and Sikh shrines. Lahore is also home to the Lahore Fort and Shalimar Gardens, both of which are UNESCO World Heritage Sites. For these reasons, Lahore is a popular tourist location both for locals and foreigners equally."
        },
        {
            "cell_type": "markdown",
            "metadata": {},
            "source": "### AirBnB in Lahore,Pakistan"
        },
        {
            "cell_type": "markdown",
            "metadata": {},
            "source": "Airbnb, Inc. is an vacation rental online marketplace company which offers arrangement for lodging, primarily homestays, or tourism experiences. Airbnb provides a platform for hosts to accommodate guests with short-term lodging and tourism-related activities.Guests can search for lodging using filters such as lodging type, dates, location, and price, and can search for specific types of homes, such as bed and breakfasts, unique homes, and vacation homes. \n\nAlthough Airbnb is commonly used in other countries, the idea has arrived with much appreciation in Pakistan.n the past few years, Airbnb has gained popularity in Pakistan. Increasingly number of hosts have set up their homes as potential rentals and many tourists are opting for AirBnb options instead of staying in hotels for their trips. A spokesperson at AirDNA said \u201cTotal Airbnb listings in Pakistan have increased by 227% over the last year, with the ratio of entire homes and private rooms roughly remaining the same.\n\nNonetheless, the emergence of Airbnb in Pakistan is expected to curb the monopoly enjoyed by hotels in the lodging industry because at present, some listings on the applications are half the cost charged by high-end hotels. Airbnb appears set to make an impact on Pakistan\u2019s hospitality industry. Airbnb seems to have a lot of potential in Pakistan and it may prove to be revolutionary for the rental market of the country.\n\n"
        },
        {
            "cell_type": "markdown",
            "metadata": {},
            "source": "\n\n# Business Problem"
        },
        {
            "cell_type": "markdown",
            "metadata": {},
            "source": "The emergence and rising popularity of AirBnb has inititated a  new investment oppurtunity for the Pakistanis. People are keen towards purchasing properties in localilties nearest to popular tourist venues so that they can be made available for rent through AirBnB. In comparison to keeping a property occupied by tenants, the purchased property yields a higher rental earning from an investor point of view if rented out on AirBnB. \n\nMy project is targetted to help such investors. I shall be using my knowledge from the ibm data science professional courses to identify and choose a neighborhood best suited for buying a property in Lahore. My selection will be based on the locality of the neighborhood. The closer a neighborhood is to the popular venues of Lahore, the higher will be its chances that it will be preferred for renting by tourists."
        },
        {
            "cell_type": "markdown",
            "metadata": {},
            "source": "# Data Used For This Project"
        },
        {
            "cell_type": "markdown",
            "metadata": {},
            "source": "I shall be using two kinds of data for my analysis of this business problem\n\n1.Zameen Property Data.csv\n2.Venues from Foursquare location data"
        },
        {
            "cell_type": "markdown",
            "metadata": {},
            "source": "### 1. Zameen Property Data"
        },
        {
            "cell_type": "markdown",
            "metadata": {},
            "source": "Zameen.com is an online property portal in Pakistan. The site lists real estate dealers, developers, agencies, and properties for sale and rent. The company is headquartered in Lahore, Pakistan and has offices in 13 cities across Pakistan, including Karachi, Lahore, Islamabad, Gujranwala, Faisalabad, Peshawar and Multan, and operates all over Pakistan. Zameen.com a property webite of Pakistan pivotal achievement so far has been that they have managed to make real estate data accessible to all.The dataset provides property listing with their prices, area and coordinates for all major cities of Pakistan including Lahore. This publicly available data is available at https://opendata.com.pk/dataset/property-data-for-pakistan/resource/2cb1eeea-8dff-41b4-845f-28b8d75ca23b?inner_span=True\n\nFrom this dataset, I shall filter out the properties in Lahore that are for sale in the popular neighborhoods of Lahore. Each neighborhood will then be clustered to group similarly located neighbors together using KMean Clustering. Then we shall plot all clusters on the map"
        },
        {
            "cell_type": "markdown",
            "metadata": {},
            "source": "### 2. Venues from Foursquare location data "
        },
        {
            "cell_type": "markdown",
            "metadata": {},
            "source": "Foursquare, is a local search-and-discovery mobile app developed by Foursquare Labs Inc. The app provides personalized recommendations of places to go near a user's current location based on users' previous browsing history and check-in history. We shall utilize location data from Foursquare to find venues around each neighborhood. The venues will belong to popular tourists interest categories like museums, parks, traditional food places etc. The more a neighborhood has venues nearby it, the higher will be its chances of winning the battle of neighborhoods."
        },
        {
            "cell_type": "markdown",
            "metadata": {},
            "source": "# Methodology"
        },
        {
            "cell_type": "markdown",
            "metadata": {},
            "source": "In order to select a neighborhood based on the highest count of venues nearby it, we choose the following methodology\n1. Data Cleaning To Get Rid of Unnecessary and Irrelevant Data\n2. K Means Clustering to Make Groups\n3. Using Four Square Data to Discover Venues\n4. Comparing Counts and Choosing a Neighborhood\nNow, I shall explain how I accomplished all these steps in my methodology"
        },
        {
            "cell_type": "markdown",
            "metadata": {},
            "source": "### 1. Data Cleansing\n"
        },
        {
            "cell_type": "markdown",
            "metadata": {},
            "source": "As the csv file imported, has all the properties listed for sale in the country of Pakistan and our project is solely based on one city Lahore, therefore we know that we shall read many unneeded details from the csv file. For that purpose, we have to filter out the file in detail and get rid of any columns that play no role in our analysis. For this purpose, we drop all such columns.\n\nAnother cleansing applied is towards the rows in the dataframe read from csv file. We keep focused on only those properties that are located near the neighborhoods in the battle and are constructed houses. We need constrcuted houses because the objective is to purchase a property and put it on AirBnB for rental purposes. Therefore,we keep only those houses that are located nearby the three neighborhoods chosen. Also all unconstructed properties and flats etc are ignored. "
        },
        {
            "cell_type": "markdown",
            "metadata": {},
            "source": "### 2.K Means Clustering"
        },
        {
            "cell_type": "markdown",
            "metadata": {},
            "source": "In the next step, we shall use KMeans clustering algorithm to group all the houses for sale located nearby and inside the three neighborhoods. When this is done, all properties will be classified as belonging to one neighborhood according to its nearness of location to a neighborhood. For this activity we have chosen to make three clusters. Therefore all rows selected from the above step will be classified in three clusters according to KMeans clustering\n"
        },
        {
            "cell_type": "markdown",
            "metadata": {},
            "source": "### 3. Discovering Venues Around Clusters Using FourSquare"
        },
        {
            "cell_type": "markdown",
            "metadata": {},
            "source": "Now we shall use the credentials of our foursquare account to discover venues around each cluster. The objective is to find out a count of venues near to each neighborhood therefore we shall take the average latitude and the average longitude of each cluster. It shall represent the centre point of a neighborhood. Then, we shall keep a 5 kilometer radius and get all venues from Foursquare.  FourSquare will give details about each venue, it category, its coordinates and even its rating, We are concerned about the count of venues near each cluster so we will first discover all venues and then count them for comparison."
        },
        {
            "cell_type": "markdown",
            "metadata": {},
            "source": "### 4. Choosing a Neighborhood"
        },
        {
            "cell_type": "markdown",
            "metadata": {},
            "source": "For each cluster, I shall compare the count of venues retreived by FourSquare. The neighborhood with the highest venues around will be selected for a property selection whereas the other two neighborhoods will be considered as the losers of the battle of neighborhoods."
        },
        {
            "cell_type": "markdown",
            "metadata": {},
            "source": "# Results and Discussion"
        },
        {
            "cell_type": "markdown",
            "metadata": {},
            "source": "The csv file read from dataset contained 168447 properties listed for sale in Pakistan. The battle of choosing a neighborhood for purchasing a property for AirBnb purpose was kept between Gulberg Town, Bahria Town and Lake City of Lahore City only.\n1. Data cleansing was perfromed and 4786 properties were chosen to be of value for this project.\n2. KMeans clustering was used to group the 4768 properties in three clusters. Each cluster contains properties that are located close to the centre of a neighborhood hence based on locality. They were shown on map\n3. Foursquare API was used to find out venues nearby each cluster. We see that the neighborhood of Gulberg Town has 100 venues nearby it while Bahria Town has 12 venues and Lake City neighborhood has just 4 venues'\n4. A  tourist person always wants to visit nearby iconic places so he would prefer to reside somewhere nearby to all major venues. If we want to purchase a property to put on AirBnB so that tourists may book it for rent, then Gulberg Town is the neighborhood selected"
        },
        {
            "cell_type": "markdown",
            "metadata": {},
            "source": "# Conclusion"
        },
        {
            "cell_type": "markdown",
            "metadata": {},
            "source": "In the above analysis, we have observed that the same devised project can be applied to any city of any country of the world. It can be a useful tool for investors looking to purchase properties for renting on AirBnB.\n\nWe have compared three neighborhoods of the city of Lahore and utilized clustering algorithm as well location data from FourSquare to find solution to a business problem. This project has helped me revise all concepts studied in data science so far. And it has been interesting to make an analysis on the real time data on a city of my own country Pakistan."
        },
        {
            "cell_type": "code",
            "execution_count": null,
            "metadata": {},
            "outputs": [],
            "source": ""
        }
    ],
    "metadata": {
        "kernelspec": {
            "display_name": "Python 3.6",
            "language": "python",
            "name": "python3"
        },
        "language_info": {
            "codemirror_mode": {
                "name": "ipython",
                "version": 3
            },
            "file_extension": ".py",
            "mimetype": "text/x-python",
            "name": "python",
            "nbconvert_exporter": "python",
            "pygments_lexer": "ipython3",
            "version": "3.6.9"
        }
    },
    "nbformat": 4,
    "nbformat_minor": 1
}